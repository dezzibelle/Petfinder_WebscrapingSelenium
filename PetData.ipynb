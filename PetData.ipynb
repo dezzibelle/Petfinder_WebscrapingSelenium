{
 "cells": [
  {
   "cell_type": "code",
   "execution_count": 2,
   "metadata": {},
   "outputs": [],
   "source": [
    "import pandas as pd\n",
    "import numpy as np\n",
    "import string\n",
    "import re"
   ]
  },
  {
   "cell_type": "code",
   "execution_count": 40,
   "metadata": {},
   "outputs": [
    {
     "data": {
      "text/html": [
       "<div>\n",
       "<style>\n",
       "    .dataframe thead tr:only-child th {\n",
       "        text-align: right;\n",
       "    }\n",
       "\n",
       "    .dataframe thead th {\n",
       "        text-align: left;\n",
       "    }\n",
       "\n",
       "    .dataframe tbody tr th {\n",
       "        vertical-align: top;\n",
       "    }\n",
       "</style>\n",
       "<table border=\"1\" class=\"dataframe\">\n",
       "  <thead>\n",
       "    <tr style=\"text-align: right;\">\n",
       "      <th></th>\n",
       "      <th>Name</th>\n",
       "      <th>Org</th>\n",
       "      <th>Info1</th>\n",
       "      <th>Info2</th>\n",
       "      <th>Info3</th>\n",
       "      <th>Info4</th>\n",
       "      <th>Info5</th>\n",
       "      <th>Script</th>\n",
       "    </tr>\n",
       "  </thead>\n",
       "  <tbody>\n",
       "    <tr>\n",
       "      <th>0</th>\n",
       "      <td>Brody</td>\n",
       "      <td>SNARR Northeast</td>\n",
       "      <td>Brody\\nBeagle &amp; Plott Hound Mix White Plains, ...</td>\n",
       "      <td>CHARACTERISTICS\\nLoving, Playful, Active\\nCOAT...</td>\n",
       "      <td>Puppy Male Medium Black , Brown / Chocolate</td>\n",
       "      <td>CHARACTERISTICS\\nLoving, Playful, Active\\nCOAT...</td>\n",
       "      <td>GOOD IN A HOME WITH\\nOther dogs.\\nADOPTION FEE...</td>\n",
       "      <td>\\n    (function(global){\\n        global.PF = ...</td>\n",
       "    </tr>\n",
       "    <tr>\n",
       "      <th>0</th>\n",
       "      <td>Celine Dion</td>\n",
       "      <td>Shelter Chic</td>\n",
       "      <td>Celine Dion\\nLabrador Retriever &amp; American Sta...</td>\n",
       "      <td>HOUSE-TRAINED\\nYes\\nHEALTH\\nVaccinations up to...</td>\n",
       "      <td>Young Female Medium</td>\n",
       "      <td>HOUSE-TRAINED\\nYes\\nHEALTH\\nVaccinations up to...</td>\n",
       "      <td>GOOD IN A HOME WITH\\nOther dogs, children.</td>\n",
       "      <td>\\n    (function(global){\\n        global.PF = ...</td>\n",
       "    </tr>\n",
       "    <tr>\n",
       "      <th>0</th>\n",
       "      <td>Cliff</td>\n",
       "      <td>Shelter Chic</td>\n",
       "      <td>Cliff\\nLabrador Retriever New York, NY\\nSenior...</td>\n",
       "      <td>HOUSE-TRAINED\\nYes\\nHEALTH\\nVaccinations up to...</td>\n",
       "      <td>Senior Male Large</td>\n",
       "      <td>HOUSE-TRAINED\\nYes\\nHEALTH\\nVaccinations up to...</td>\n",
       "      <td>GOOD IN A HOME WITH\\nOther dogs, cats, children.</td>\n",
       "      <td>\\n    (function(global){\\n        global.PF = ...</td>\n",
       "    </tr>\n",
       "    <tr>\n",
       "      <th>0</th>\n",
       "      <td>Jessie</td>\n",
       "      <td>Beagle911 Refuge</td>\n",
       "      <td>Jessie\\nBeagle &amp; Terrier Mix State College, PA...</td>\n",
       "      <td>COAT LENGTH\\nShort\\nHOUSE-TRAINED\\nYes\\nHEALTH...</td>\n",
       "      <td>Adult Male Small Tricolor (Brown, Black, &amp; White)</td>\n",
       "      <td>COAT LENGTH\\nShort\\nHOUSE-TRAINED\\nYes\\nHEALTH...</td>\n",
       "      <td>GOOD IN A HOME WITH\\nOther dogs, cats, children.</td>\n",
       "      <td>\\n    (function(global){\\n        global.PF = ...</td>\n",
       "    </tr>\n",
       "  </tbody>\n",
       "</table>\n",
       "</div>"
      ],
      "text/plain": [
       "          Name               Org  \\\n",
       "0        Brody   SNARR Northeast   \n",
       "0  Celine Dion      Shelter Chic   \n",
       "0        Cliff      Shelter Chic   \n",
       "0       Jessie  Beagle911 Refuge   \n",
       "\n",
       "                                               Info1  \\\n",
       "0  Brody\\nBeagle & Plott Hound Mix White Plains, ...   \n",
       "0  Celine Dion\\nLabrador Retriever & American Sta...   \n",
       "0  Cliff\\nLabrador Retriever New York, NY\\nSenior...   \n",
       "0  Jessie\\nBeagle & Terrier Mix State College, PA...   \n",
       "\n",
       "                                               Info2  \\\n",
       "0  CHARACTERISTICS\\nLoving, Playful, Active\\nCOAT...   \n",
       "0  HOUSE-TRAINED\\nYes\\nHEALTH\\nVaccinations up to...   \n",
       "0  HOUSE-TRAINED\\nYes\\nHEALTH\\nVaccinations up to...   \n",
       "0  COAT LENGTH\\nShort\\nHOUSE-TRAINED\\nYes\\nHEALTH...   \n",
       "\n",
       "                                               Info3  \\\n",
       "0        Puppy Male Medium Black , Brown / Chocolate   \n",
       "0                                Young Female Medium   \n",
       "0                                  Senior Male Large   \n",
       "0  Adult Male Small Tricolor (Brown, Black, & White)   \n",
       "\n",
       "                                               Info4  \\\n",
       "0  CHARACTERISTICS\\nLoving, Playful, Active\\nCOAT...   \n",
       "0  HOUSE-TRAINED\\nYes\\nHEALTH\\nVaccinations up to...   \n",
       "0  HOUSE-TRAINED\\nYes\\nHEALTH\\nVaccinations up to...   \n",
       "0  COAT LENGTH\\nShort\\nHOUSE-TRAINED\\nYes\\nHEALTH...   \n",
       "\n",
       "                                               Info5  \\\n",
       "0  GOOD IN A HOME WITH\\nOther dogs.\\nADOPTION FEE...   \n",
       "0         GOOD IN A HOME WITH\\nOther dogs, children.   \n",
       "0   GOOD IN A HOME WITH\\nOther dogs, cats, children.   \n",
       "0   GOOD IN A HOME WITH\\nOther dogs, cats, children.   \n",
       "\n",
       "                                              Script  \n",
       "0  \\n    (function(global){\\n        global.PF = ...  \n",
       "0  \\n    (function(global){\\n        global.PF = ...  \n",
       "0  \\n    (function(global){\\n        global.PF = ...  \n",
       "0  \\n    (function(global){\\n        global.PF = ...  "
      ]
     },
     "execution_count": 40,
     "metadata": {},
     "output_type": "execute_result"
    }
   ],
   "source": [
    "df2 = pd.concat([pet1, pet2, pet3, pet4], axis = 0)\n",
    "df2.columns = ['Name', 'Org', 'Info1','Info2','Info3','Info4','Info5','Script']\n",
    "df2"
   ]
  },
  {
   "cell_type": "code",
   "execution_count": 20,
   "metadata": {},
   "outputs": [
    {
     "ename": "NameError",
     "evalue": "name 'df2' is not defined",
     "output_type": "error",
     "traceback": [
      "\u001b[0;31m---------------------------------------------------------------------------\u001b[0m",
      "\u001b[0;31mNameError\u001b[0m                                 Traceback (most recent call last)",
      "\u001b[0;32m<ipython-input-20-f20df2c4a4d0>\u001b[0m in \u001b[0;36m<module>\u001b[0;34m()\u001b[0m\n\u001b[0;32m----> 1\u001b[0;31m \u001b[0mtest_string\u001b[0m \u001b[0;34m=\u001b[0m \u001b[0mdf2\u001b[0m\u001b[0;34m.\u001b[0m\u001b[0miloc\u001b[0m\u001b[0;34m[\u001b[0m\u001b[0;36m0\u001b[0m\u001b[0;34m,\u001b[0m\u001b[0;36m7\u001b[0m\u001b[0;34m]\u001b[0m\u001b[0;34m\u001b[0m\u001b[0m\n\u001b[0m",
      "\u001b[0;31mNameError\u001b[0m: name 'df2' is not defined"
     ]
    }
   ],
   "source": [
    "test_string = df2.iloc[0,7]"
   ]
  },
  {
   "cell_type": "code",
   "execution_count": 19,
   "metadata": {},
   "outputs": [
    {
     "ename": "NameError",
     "evalue": "name 'test_string' is not defined",
     "output_type": "error",
     "traceback": [
      "\u001b[0;31m---------------------------------------------------------------------------\u001b[0m",
      "\u001b[0;31mNameError\u001b[0m                                 Traceback (most recent call last)",
      "\u001b[0;32m<ipython-input-19-a5a2cde99643>\u001b[0m in \u001b[0;36m<module>\u001b[0;34m()\u001b[0m\n\u001b[1;32m      1\u001b[0m \u001b[0;31m#test_string[]\u001b[0m\u001b[0;34m\u001b[0m\u001b[0;34m\u001b[0m\u001b[0m\n\u001b[0;32m----> 2\u001b[0;31m \u001b[0mi\u001b[0m \u001b[0;34m=\u001b[0m \u001b[0mtest_string\u001b[0m\u001b[0;34m.\u001b[0m\u001b[0mfind\u001b[0m\u001b[0;34m(\u001b[0m\u001b[0;34m\"{\\\"user_auth\\\"\"\u001b[0m\u001b[0;34m)\u001b[0m\u001b[0;34m\u001b[0m\u001b[0m\n\u001b[0m\u001b[1;32m      3\u001b[0m \u001b[0mi\u001b[0m\u001b[0;34m\u001b[0m\u001b[0m\n",
      "\u001b[0;31mNameError\u001b[0m: name 'test_string' is not defined"
     ]
    }
   ],
   "source": [
    "#test_string[]\n",
    "i = test_string.find(\"{\\\"user_auth\\\"\")\n",
    "i"
   ]
  },
  {
   "cell_type": "code",
   "execution_count": 152,
   "metadata": {},
   "outputs": [
    {
     "data": {
      "text/plain": [
       "'\\n    (function(global){\\n        global.PF = { databridge: {} };\\n        global.PF.pageConfig = {\"user_auth\":false,\"debug\":false,\"www_url\":\"https:\\\\/\\\\/www.petfinder.com\",\"pro_url\":\"https:\\\\/\\\\/pro.petfinder.com\",\"api_passthrough_token\":\"RNkV5Z-BXjZJIktUiVyWcEY0jC6xTS2NnV0DgMWFwBU\",\"countries\":[{\"name\":\"United States\",\"code\":\"US\",\"active\":true,\"_links\":{\"self\":{\"href\":\"\\\\/v2\\\\/geography\\\\/countries\\\\/US\"},\"states\":{\"href\":\"\\\\/v2\\\\/geography\\\\/countries\\\\/US\\\\/states\"}}},{\"name\":\"Canada\",\"code\":\"CA\",\"active\":true,\"_links\":{\"self\":{\"href\":\"\\\\/v2\\\\/geography\\\\/countries\\\\/CA\"},\"states\":{\"href\":\"\\\\/v2\\\\/geography\\\\/countries\\\\/CA\\\\/states\"}}},{\"name\":\"Guam\",\"code\":\"GU\",\"active\":true,\"_links\":{\"self\":{\"href\":\"\\\\/v2\\\\/geography\\\\/countries\\\\/GU\"},\"states\":{\"href\":\"\\\\/v2\\\\/geography\\\\/countries\\\\/GU\\\\/states\"}}},{\"name\":\"Mexico\",\"code\":\"MX\",\"active\":true,\"_links\":{\"self\":{\"href\":\"\\\\/v2\\\\/geography\\\\/countries\\\\/MX\"},\"states\":{\"href\":\"\\\\/v2\\\\/geography\\\\/countries\\\\/MX\\\\/states\"}}},{\"name\":\"Puerto Rico\",\"code\":\"PR\",\"active\":true,\"_links\":{\"self\":{\"href\":\"\\\\/v2\\\\/geography\\\\/countries\\\\/PR\"},\"states\":{\"href\":\"\\\\/v2\\\\/geography\\\\/countries\\\\/PR\\\\/states\"}}},{\"name\":\"Virgin Islands, US\",\"code\":\"VI\",\"active\":true,\"_links\":{\"self\":{\"href\":\"\\\\/v2\\\\/geography\\\\/countries\\\\/VI\"},\"states\":{\"href\":\"\\\\/v2\\\\/geography\\\\/countries\\\\/VI\\\\/states\"}}}],\"distance\":0.021256180425381105,\"animal\":{\"id\":42351895,\"type\":{\"id\":2,\"name\":\"Dog\"},\"species\":{\"id\":11,\"name\":\"Dog\"},\"primary_breed\":{\"id\":191,\"name\":\"Beagle\"},\"secondary_breed\":{\"id\":345,\"name\":\"Plott Hound\"},\"is_mixed_breed\":true,\"is_unknown_breed\":false,\"primary_color\":\"Black\",\"secondary_color\":\"Brown \\\\/ Chocolate\",\"tertiary_color\":null,\"age\":\"Baby\",\"sex\":\"Male\",\"size\":\"Medium\",\"coat_length\":\"Short\",\"name\":\"Brody\",\"description\":\"Say hello to your new best buddy Brody!  This strikingly handsome boy is looking for a foster or even better, his forever home. Brody is 8 months old and is a beagle\\\\/plott hound mix  weighing in at 33 lbs. He is very athletic and loves long walks - he is terrific on the leash. His other favorite thing to do is to be by your side on the couch, snuggling and watching a movie. He is very sweet and the ultimate companion dog. \\\\n\\\\nBrody is also completely housetrained! He knows his commands and is very well socialized with people and other dogs. \\\\n\\\\nBrody would do best in a home with older children, since too much activity can make him a bit anxious. He does not need to have a canine companion, but would be fine with having one around too. He loves his &quot;person&quot; with all he has,and wants nothing more than to be with you and love you. He would benefit from being in a home with a family who is experienced and willing to work with him on continual training. Brody is neutered, microchipped and up to date on vaccines.  His adoption fee is $450.\\\\n\\\\nIf a dog is listed on Petfinder, he\\\\/she is still available. We do not go on a first come first serve basis, but on best fit for the family and most importantly, the puppy.  Please keep in mind that we are taking our best guess on breed, age and adult weight based on the dogs physical appearance.  \\\\n\\\\nPlease visit snarrnortheast.org for an application.\",\"organization_animal_identifier\":null,\"primary_photo_url\":\"https:\\\\/\\\\/dl5zpyw5k3jeb.cloudfront.net\\\\/photos\\\\/pets\\\\/42351895\\\\/1\\\\/?bust=1533113038\",\"primary_photo_cropped_url\":\"https:\\\\/\\\\/dl5zpyw5k3jeb.cloudfront.net\\\\/photos\\\\/pets\\\\/42351895\\\\/1\\\\/?bust=1533113038\",\"photo_urls\":[\"https:\\\\/\\\\/dl5zpyw5k3jeb.cloudfront.net\\\\/photos\\\\/pets\\\\/42351895\\\\/1\\\\/?bust=1533113038\",\"https:\\\\/\\\\/dl5zpyw5k3jeb.cloudfront.net\\\\/photos\\\\/pets\\\\/42351895\\\\/2\\\\/?bust=1533113046\",\"https:\\\\/\\\\/dl5zpyw5k3jeb.cloudfront.net\\\\/photos\\\\/pets\\\\/42351895\\\\/3\\\\/?bust=1533113051\",\"https:\\\\/\\\\/dl5zpyw5k3jeb.cloudfront.net\\\\/photos\\\\/pets\\\\/42351895\\\\/4\\\\/?bust=1533113057\"],\"videos\":[],\"adoption_status\":\"adoptable\",\"attributes\":[\"House trained\",\"Spay\\\\/Neuter\",\"Shots Current\"],\"special_needs_notes\":null,\"home_environment_attributes\":{\"good_with_children\":null,\"good_with_dogs\":true,\"good_with_cats\":null,\"good_with_other_animals\":null,\"other_animals\":null},\"tags\":[\"Loving\",\"Playful\",\"Active\"],\"public_adoption_fee\":450,\"adoption_fee_waived\":false,\"published_at\":\"2018-08-01T08:48:26+0000\",\"adopted_at\":null},\"contact\":{\"email\":\"Jessi@snarrnortheast.org\",\"phone\":null},\"location\":{\"address\":{\"address1\":\"PO Box 307\",\"address2\":null,\"city\":\"White Plains\",\"state\":\"NY\",\"postal_code\":\"10602\",\"country\":\"US\"},\"geo\":{\"latitude\":41.0339,\"longitude\":-73.7633},\"name\":null,\"open_to_public\":true,\"by_appointment_only\":false,\"hours\":{\"sunday\":null,\"monday\":null,\"tuesday\":null,\"wednesday\":null,\"thursday\":null,\"friday\":null,\"saturday\":null},\"is_map_hidden\":false},\"organization\":{\"name\":\"SNARR Northeast\",\"display_id\":\"NY1298\"}};\\n                    }(window));\\n'"
      ]
     },
     "execution_count": 152,
     "metadata": {},
     "output_type": "execute_result"
    }
   ],
   "source": [
    "test_string"
   ]
  },
  {
   "cell_type": "code",
   "execution_count": 97,
   "metadata": {},
   "outputs": [
    {
     "data": {
      "text/plain": [
       "'2018-08-01'"
      ]
     },
     "execution_count": 97,
     "metadata": {},
     "output_type": "execute_result"
    }
   ],
   "source": [
    "post_date = re.sub(',\"adopted_at.*',\"\",re.sub('.*?published_at\\\":\\\"', \"\", re.sub('[\\n]', ' ', test_string)))[0:10]\n",
    "post_date"
   ]
  },
  {
   "cell_type": "code",
   "execution_count": 117,
   "metadata": {},
   "outputs": [
    {
     "data": {
      "text/plain": [
       "'Brody\\nBeagle & Plott Hound Mix White Plains, NY\\nPuppy Male Medium Black , Brown / Chocolate'"
      ]
     },
     "execution_count": 117,
     "metadata": {},
     "output_type": "execute_result"
    }
   ],
   "source": [
    "test_info1 = df2.iloc[0,2]\n",
    "df2.iloc[0,2]"
   ]
  },
  {
   "cell_type": "code",
   "execution_count": 108,
   "metadata": {},
   "outputs": [],
   "source": [
    "test_info1 = [str.strip() for str in test_info1[0].splitlines()]"
   ]
  },
  {
   "cell_type": "code",
   "execution_count": 111,
   "metadata": {},
   "outputs": [
    {
     "data": {
      "text/plain": [
       "'Beagle & Plott Hound Mix White Plains, NY'"
      ]
     },
     "execution_count": 111,
     "metadata": {},
     "output_type": "execute_result"
    }
   ],
   "source": [
    "breed = test_info1[1]\n",
    "\n",
    "breed\n"
   ]
  },
  {
   "cell_type": "code",
   "execution_count": 113,
   "metadata": {},
   "outputs": [
    {
     "data": {
      "text/plain": [
       "['Puppy Male Medium Black , Brown / Chocolate']"
      ]
     },
     "execution_count": 113,
     "metadata": {},
     "output_type": "execute_result"
    }
   ],
   "source": [
    "test_info2 = [str.strip() for str in test_info1[2].splitlines()]\n",
    "test_info2"
   ]
  },
  {
   "cell_type": "code",
   "execution_count": 127,
   "metadata": {},
   "outputs": [
    {
     "data": {
      "text/plain": [
       "'Brody'"
      ]
     },
     "execution_count": 127,
     "metadata": {},
     "output_type": "execute_result"
    }
   ],
   "source": [
    "df2.iloc[0,0]   #Name"
   ]
  },
  {
   "cell_type": "code",
   "execution_count": 125,
   "metadata": {},
   "outputs": [
    {
     "data": {
      "text/plain": [
       "'SNARR Northeast'"
      ]
     },
     "execution_count": 125,
     "metadata": {},
     "output_type": "execute_result"
    }
   ],
   "source": [
    "df2.iloc[0,1]   #Organization"
   ]
  },
  {
   "cell_type": "code",
   "execution_count": 114,
   "metadata": {},
   "outputs": [
    {
     "data": {
      "text/plain": [
       "'Brody\\nBeagle & Plott Hound Mix White Plains, NY\\nPuppy Male Medium Black , Brown / Chocolate'"
      ]
     },
     "execution_count": 114,
     "metadata": {},
     "output_type": "execute_result"
    }
   ],
   "source": [
    "df2.iloc[0,2]   #Info1   - difficult to split\n"
   ]
  },
  {
   "cell_type": "code",
   "execution_count": 136,
   "metadata": {},
   "outputs": [
    {
     "data": {
      "text/plain": [
       "0    CHARACTERISTICS\\nLoving, Playful, Active\\nCOAT...\n",
       "0    HOUSE-TRAINED\\nYes\\nHEALTH\\nVaccinations up to...\n",
       "0    HOUSE-TRAINED\\nYes\\nHEALTH\\nVaccinations up to...\n",
       "0    COAT LENGTH\\nShort\\nHOUSE-TRAINED\\nYes\\nHEALTH...\n",
       "Name: Info2, dtype: object"
      ]
     },
     "execution_count": 136,
     "metadata": {},
     "output_type": "execute_result"
    }
   ],
   "source": [
    "df2.iloc[:,3]  #Info2"
   ]
  },
  {
   "cell_type": "code",
   "execution_count": 129,
   "metadata": {},
   "outputs": [
    {
     "data": {
      "text/plain": [
       "['CHARACTERISTICS',\n",
       " 'Loving, Playful, Active',\n",
       " 'COAT LENGTH',\n",
       " 'Short',\n",
       " 'HOUSE-TRAINED',\n",
       " 'Yes',\n",
       " 'HEALTH',\n",
       " 'Vaccinations up to date, spayed / neutered.',\n",
       " 'GOOD IN A HOME WITH',\n",
       " 'Other dogs.',\n",
       " 'ADOPTION FEE',\n",
       " '$450.00']"
      ]
     },
     "execution_count": 129,
     "metadata": {},
     "output_type": "execute_result"
    }
   ],
   "source": [
    "test_info3 = [str.strip() for str in df2.iloc[0,3].splitlines()]\n",
    "test_info3"
   ]
  },
  {
   "cell_type": "code",
   "execution_count": 135,
   "metadata": {},
   "outputs": [],
   "source": [
    "chars = test_info3[1]\n",
    "coat_length = test_info3[3]\n",
    "house_trained = test_info3[5]\n"
   ]
  },
  {
   "cell_type": "code",
   "execution_count": 180,
   "metadata": {},
   "outputs": [
    {
     "data": {
      "text/plain": [
       "'{\"user_auth\":false,\"debug\":false,\"www_url\":\"https:\\\\/\\\\/www.petfinder.com\",\"pro_url\":\"https:\\\\/\\\\/pro.petfinder.com\",\"api_passthrough_token\":\"RNkV5Z-BXjZJIktUiVyWcEY0jC6xTS2NnV0DgMWFwBU\",\"countries\":[{\"name\":\"United States\",\"code\":\"US\",\"active\":true,\"_links\":{\"self\":{\"href\":\"\\\\/v2\\\\/geography\\\\/countries\\\\/US\"},\"states\":{\"href\":\"\\\\/v2\\\\/geography\\\\/countries\\\\/US\\\\/states\"}}},{\"name\":\"Canada\",\"code\":\"CA\",\"active\":true,\"_links\":{\"self\":{\"href\":\"\\\\/v2\\\\/geography\\\\/countries\\\\/CA\"},\"states\":{\"href\":\"\\\\/v2\\\\/geography\\\\/countries\\\\/CA\\\\/states\"}}},{\"name\":\"Guam\",\"code\":\"GU\",\"active\":true,\"_links\":{\"self\":{\"href\":\"\\\\/v2\\\\/geography\\\\/countries\\\\/GU\"},\"states\":{\"href\":\"\\\\/v2\\\\/geography\\\\/countries\\\\/GU\\\\/states\"}}},{\"name\":\"Mexico\",\"code\":\"MX\",\"active\":true,\"_links\":{\"self\":{\"href\":\"\\\\/v2\\\\/geography\\\\/countries\\\\/MX\"},\"states\":{\"href\":\"\\\\/v2\\\\/geography\\\\/countries\\\\/MX\\\\/states\"}}},{\"name\":\"Puerto Rico\",\"code\":\"PR\",\"active\":true,\"_links\":{\"self\":{\"href\":\"\\\\/v2\\\\/geography\\\\/countries\\\\/PR\"},\"states\":{\"href\":\"\\\\/v2\\\\/geography\\\\/countries\\\\/PR\\\\/states\"}}},{\"name\":\"Virgin Islands, US\",\"code\":\"VI\",\"active\":true,\"_links\":{\"self\":{\"href\":\"\\\\/v2\\\\/geography\\\\/countries\\\\/VI\"},\"states\":{\"href\":\"\\\\/v2\\\\/geography\\\\/countries\\\\/VI\\\\/states\"}}}],\"distance\":0.021256180425381105,\"animal\":{\"id\":42351895,\"type\":{\"id\":2,\"name\":\"Dog\"},\"species\":{\"id\":11,\"name\":\"Dog\"},\"primary_breed\":{\"id\":191,\"name\":\"Beagle\"},\"secondary_breed\":{\"id\":345,\"name\":\"Plott Hound\"},\"is_mixed_breed\":true,\"is_unknown_breed\":false,\"primary_color\":\"Black\",\"secondary_color\":\"Brown \\\\/ Chocolate\",\"tertiary_color\":null,\"age\":\"Baby\",\"sex\":\"Male\",\"size\":\"Medium\",\"coat_length\":\"Short\",\"name\":\"Brody\",\"description\":\"Say hello to your new best buddy Brody!  This strikingly handsome boy is looking for a foster or even better, his forever home. Brody is 8 months old and is a beagle\\\\/plott hound mix  weighing in at 33 lbs. He is very athletic and loves long walks - he is terrific on the leash. His other favorite thing to do is to be by your side on the couch, snuggling and watching a movie. He is very sweet and the ultimate companion dog. \\\\n\\\\nBrody is also completely housetrained! He knows his commands and is very well socialized with people and other dogs. \\\\n\\\\nBrody would do best in a home with older children, since too much activity can make him a bit anxious. He does not need to have a canine companion, but would be fine with having one around too. He loves his &quot;person&quot; with all he has,and wants nothing more than to be with you and love you. He would benefit from being in a home with a family who is experienced and willing to work with him on continual training. Brody is neutered, microchipped and up to date on vaccines.  His adoption fee is $450.\\\\n\\\\nIf a dog is listed on Petfinder, he\\\\/she is still available. We do not go on a first come first serve basis, but on best fit for the family and most importantly, the puppy.  Please keep in mind that we are taking our best guess on breed, age and adult weight based on the dogs physical appearance.  \\\\n\\\\nPlease visit snarrnortheast.org for an application.\",\"organization_animal_identifier\":null,\"primary_photo_url\":\"https:\\\\/\\\\/dl5zpyw5k3jeb.cloudfront.net\\\\/photos\\\\/pets\\\\/42351895\\\\/1\\\\/?bust=1533113038\",\"primary_photo_cropped_url\":\"https:\\\\/\\\\/dl5zpyw5k3jeb.cloudfront.net\\\\/photos\\\\/pets\\\\/42351895\\\\/1\\\\/?bust=1533113038\",\"photo_urls\":[\"https:\\\\/\\\\/dl5zpyw5k3jeb.cloudfront.net\\\\/photos\\\\/pets\\\\/42351895\\\\/1\\\\/?bust=1533113038\",\"https:\\\\/\\\\/dl5zpyw5k3jeb.cloudfront.net\\\\/photos\\\\/pets\\\\/42351895\\\\/2\\\\/?bust=1533113046\",\"https:\\\\/\\\\/dl5zpyw5k3jeb.cloudfront.net\\\\/photos\\\\/pets\\\\/42351895\\\\/3\\\\/?bust=1533113051\",\"https:\\\\/\\\\/dl5zpyw5k3jeb.cloudfront.net\\\\/photos\\\\/pets\\\\/42351895\\\\/4\\\\/?bust=1533113057\"],\"videos\":[],\"adoption_status\":\"adoptable\",\"attributes\":[\"House trained\",\"Spay\\\\/Neuter\",\"Shots Current\"],\"special_needs_notes\":null,\"home_environment_attributes\":{\"good_with_children\":null,\"good_with_dogs\":true,\"good_with_cats\":null,\"good_with_other_animals\":null,\"other_animals\":null},\"tags\":[\"Loving\",\"Playful\",\"Active\"],\"public_adoption_fee\":450,\"adoption_fee_waived\":false,\"published_at\":\"2018-08-01T08:48:26+0000\",\"adopted_at\":null},\"contact\":{\"email\":\"Jessi@snarrnortheast.org\",\"phone\":null},\"location\":{\"address\":{\"address1\":\"PO Box 307\",\"address2\":null,\"city\":\"White Plains\",\"state\":\"NY\",\"postal_code\":\"10602\",\"country\":\"US\"},\"geo\":{\"latitude\":41.0339,\"longitude\":-73.7633},\"name\":null,\"open_to_public\":true,\"by_appointment_only\":false,\"hours\":{\"sunday\":null,\"monday\":null,\"tuesday\":null,\"wednesday\":null,\"thursday\":null,\"friday\":null,\"saturday\":null},\"is_map_hidden\":false},\"organization\":{\"name\":\"SNARR Northeast\",\"display_id\":\"NY1298\"}}'"
      ]
     },
     "execution_count": 180,
     "metadata": {},
     "output_type": "execute_result"
    }
   ],
   "source": [
    "i = test_string.find(\"{\\\"user_auth\\\"\")\n",
    "\n",
    "\n",
    "\n",
    "json_text = test_string[i:]\n",
    "j = json_text.rfind(\"}(window)\")\n",
    "json_text = json_text[:j]\n",
    "k = json_text.rfind(\";\")\n",
    "json_text = json_text[:k]\n",
    "json_text"
   ]
  },
  {
   "cell_type": "code",
   "execution_count": 183,
   "metadata": {},
   "outputs": [],
   "source": [
    "import json\n",
    "data1 = json.loads(json_text)"
   ]
  },
  {
   "cell_type": "code",
   "execution_count": 186,
   "metadata": {},
   "outputs": [
    {
     "data": {
      "text/plain": [
       "'2018-08-01T08:48:26+0000'"
      ]
     },
     "execution_count": 186,
     "metadata": {},
     "output_type": "execute_result"
    }
   ],
   "source": [
    "data1[\"animal\"][\"published_at\"]"
   ]
  },
  {
   "cell_type": "code",
   "execution_count": 187,
   "metadata": {},
   "outputs": [
    {
     "data": {
      "text/plain": [
       "'Brody'"
      ]
     },
     "execution_count": 187,
     "metadata": {},
     "output_type": "execute_result"
    }
   ],
   "source": [
    "data1[\"animal\"][\"name\"]"
   ]
  },
  {
   "cell_type": "code",
   "execution_count": 190,
   "metadata": {},
   "outputs": [
    {
     "data": {
      "text/plain": [
       "'White Plains'"
      ]
     },
     "execution_count": 190,
     "metadata": {},
     "output_type": "execute_result"
    }
   ],
   "source": [
    "data1[\"location\"][\"address\"][\"city\"]"
   ]
  },
  {
   "cell_type": "code",
   "execution_count": 8,
   "metadata": {},
   "outputs": [],
   "source": [
    "petscrape = pd.read_csv('data/pets_WhitePlains100mi_001.csv', header = None)\n",
    "petscrape.columns = [\"Name\", \"Organization\", \"Info1\", \"Info2\", \"Story\", \"Script\"]"
   ]
  },
  {
   "cell_type": "code",
   "execution_count": 9,
   "metadata": {},
   "outputs": [
    {
     "data": {
      "text/html": [
       "<div>\n",
       "<style>\n",
       "    .dataframe thead tr:only-child th {\n",
       "        text-align: right;\n",
       "    }\n",
       "\n",
       "    .dataframe thead th {\n",
       "        text-align: left;\n",
       "    }\n",
       "\n",
       "    .dataframe tbody tr th {\n",
       "        vertical-align: top;\n",
       "    }\n",
       "</style>\n",
       "<table border=\"1\" class=\"dataframe\">\n",
       "  <thead>\n",
       "    <tr style=\"text-align: right;\">\n",
       "      <th></th>\n",
       "      <th>Name</th>\n",
       "      <th>Organization</th>\n",
       "      <th>Info1</th>\n",
       "      <th>Info2</th>\n",
       "      <th>Story</th>\n",
       "      <th>Script</th>\n",
       "    </tr>\n",
       "  </thead>\n",
       "  <tbody>\n",
       "    <tr>\n",
       "      <th>0</th>\n",
       "      <td>Brody</td>\n",
       "      <td>SNARR Northeast</td>\n",
       "      <td>Brody\\nBeagle &amp; Plott Hound Mix White Plains, ...</td>\n",
       "      <td>CHARACTERISTICS\\nLoving, Playful, Active\\nCOAT...</td>\n",
       "      <td>Say hello to your new best buddy Brody! This s...</td>\n",
       "      <td>\\n    (function(global){\\n        global.PF = ...</td>\n",
       "    </tr>\n",
       "    <tr>\n",
       "      <th>1</th>\n",
       "      <td>Calliope</td>\n",
       "      <td>SNARR Northeast</td>\n",
       "      <td>Calliope\\nBloodhound White Plains, NY\\nAdult F...</td>\n",
       "      <td>COAT LENGTH\\nShort\\nHOUSE-TRAINED\\nYes\\nHEALTH...</td>\n",
       "      <td>Calliope is a very seeet dog who was given up ...</td>\n",
       "      <td>\\n    (function(global){\\n        global.PF = ...</td>\n",
       "    </tr>\n",
       "    <tr>\n",
       "      <th>2</th>\n",
       "      <td>Oreo</td>\n",
       "      <td>SNARR Northeast</td>\n",
       "      <td>Oreo\\nShih Tzu Mix White Plains, NY\\nYoung Mal...</td>\n",
       "      <td>CHARACTERISTICS\\nLoyal, Sweet\\nCOAT LENGTH\\nMe...</td>\n",
       "      <td>Meet Oreo! This cutie pie is looking for the p...</td>\n",
       "      <td>\\n    (function(global){\\n        global.PF = ...</td>\n",
       "    </tr>\n",
       "    <tr>\n",
       "      <th>3</th>\n",
       "      <td>B-52</td>\n",
       "      <td>SNARR Northeast</td>\n",
       "      <td>B-52\\nBorder Collie &amp; Boxer Mix White Plains, ...</td>\n",
       "      <td>CHARACTERISTICS\\nLoving, Playful, Active\\nCOAT...</td>\n",
       "      <td>Meet darling B-52! This handsome lovebug is re...</td>\n",
       "      <td>\\n    (function(global){\\n        global.PF = ...</td>\n",
       "    </tr>\n",
       "    <tr>\n",
       "      <th>4</th>\n",
       "      <td>Tanqueray and Tequila (bonded pair)</td>\n",
       "      <td>SNARR Northeast</td>\n",
       "      <td>Tanqueray and Tequila (bonded pair)\\nPomerania...</td>\n",
       "      <td>CHARACTERISTICS\\nLoving, Playful, Sweet\\nCOAT ...</td>\n",
       "      <td>Tanqueray and Tequila are a cutie pie brother-...</td>\n",
       "      <td>\\n    (function(global){\\n        global.PF = ...</td>\n",
       "    </tr>\n",
       "  </tbody>\n",
       "</table>\n",
       "</div>"
      ],
      "text/plain": [
       "                                  Name     Organization  \\\n",
       "0                                Brody  SNARR Northeast   \n",
       "1                             Calliope  SNARR Northeast   \n",
       "2                                 Oreo  SNARR Northeast   \n",
       "3                                 B-52  SNARR Northeast   \n",
       "4  Tanqueray and Tequila (bonded pair)  SNARR Northeast   \n",
       "\n",
       "                                               Info1  \\\n",
       "0  Brody\\nBeagle & Plott Hound Mix White Plains, ...   \n",
       "1  Calliope\\nBloodhound White Plains, NY\\nAdult F...   \n",
       "2  Oreo\\nShih Tzu Mix White Plains, NY\\nYoung Mal...   \n",
       "3  B-52\\nBorder Collie & Boxer Mix White Plains, ...   \n",
       "4  Tanqueray and Tequila (bonded pair)\\nPomerania...   \n",
       "\n",
       "                                               Info2  \\\n",
       "0  CHARACTERISTICS\\nLoving, Playful, Active\\nCOAT...   \n",
       "1  COAT LENGTH\\nShort\\nHOUSE-TRAINED\\nYes\\nHEALTH...   \n",
       "2  CHARACTERISTICS\\nLoyal, Sweet\\nCOAT LENGTH\\nMe...   \n",
       "3  CHARACTERISTICS\\nLoving, Playful, Active\\nCOAT...   \n",
       "4  CHARACTERISTICS\\nLoving, Playful, Sweet\\nCOAT ...   \n",
       "\n",
       "                                               Story  \\\n",
       "0  Say hello to your new best buddy Brody! This s...   \n",
       "1  Calliope is a very seeet dog who was given up ...   \n",
       "2  Meet Oreo! This cutie pie is looking for the p...   \n",
       "3  Meet darling B-52! This handsome lovebug is re...   \n",
       "4  Tanqueray and Tequila are a cutie pie brother-...   \n",
       "\n",
       "                                              Script  \n",
       "0  \\n    (function(global){\\n        global.PF = ...  \n",
       "1  \\n    (function(global){\\n        global.PF = ...  \n",
       "2  \\n    (function(global){\\n        global.PF = ...  \n",
       "3  \\n    (function(global){\\n        global.PF = ...  \n",
       "4  \\n    (function(global){\\n        global.PF = ...  "
      ]
     },
     "execution_count": 9,
     "metadata": {},
     "output_type": "execute_result"
    }
   ],
   "source": [
    "petscrape.head()"
   ]
  },
  {
   "cell_type": "code",
   "execution_count": 17,
   "metadata": {},
   "outputs": [
    {
     "ename": "AttributeError",
     "evalue": "'Series' object has no attribute 'splitlines'",
     "output_type": "error",
     "traceback": [
      "\u001b[0;31m---------------------------------------------------------------------------\u001b[0m",
      "\u001b[0;31mAttributeError\u001b[0m                            Traceback (most recent call last)",
      "\u001b[0;32m<ipython-input-17-58da46ca238c>\u001b[0m in \u001b[0;36m<module>\u001b[0;34m()\u001b[0m\n\u001b[0;32m----> 1\u001b[0;31m \u001b[0mpetscrape\u001b[0m\u001b[0;34m[\u001b[0m\u001b[0;34m'Name2'\u001b[0m\u001b[0;34m]\u001b[0m \u001b[0;34m=\u001b[0m \u001b[0mpetscrape\u001b[0m\u001b[0;34m[\u001b[0m\u001b[0;34m'Info1'\u001b[0m\u001b[0;34m]\u001b[0m\u001b[0;34m.\u001b[0m\u001b[0msplitlines\u001b[0m\u001b[0;34m(\u001b[0m\u001b[0;34m)\u001b[0m\u001b[0;34m\u001b[0m\u001b[0m\n\u001b[0m\u001b[1;32m      2\u001b[0m \u001b[0;34m\u001b[0m\u001b[0m\n\u001b[1;32m      3\u001b[0m \u001b[0;34m\u001b[0m\u001b[0m\n\u001b[1;32m      4\u001b[0m \u001b[0;31m#[str.strip() for str in df2.iloc[0,3].splitlines()]\u001b[0m\u001b[0;34m\u001b[0m\u001b[0;34m\u001b[0m\u001b[0m\n",
      "\u001b[0;32m~/anaconda3/lib/python3.6/site-packages/pandas/core/generic.py\u001b[0m in \u001b[0;36m__getattr__\u001b[0;34m(self, name)\u001b[0m\n\u001b[1;32m   3079\u001b[0m             \u001b[0;32mif\u001b[0m \u001b[0mname\u001b[0m \u001b[0;32min\u001b[0m \u001b[0mself\u001b[0m\u001b[0;34m.\u001b[0m\u001b[0m_info_axis\u001b[0m\u001b[0;34m:\u001b[0m\u001b[0;34m\u001b[0m\u001b[0m\n\u001b[1;32m   3080\u001b[0m                 \u001b[0;32mreturn\u001b[0m \u001b[0mself\u001b[0m\u001b[0;34m[\u001b[0m\u001b[0mname\u001b[0m\u001b[0;34m]\u001b[0m\u001b[0;34m\u001b[0m\u001b[0m\n\u001b[0;32m-> 3081\u001b[0;31m             \u001b[0;32mreturn\u001b[0m \u001b[0mobject\u001b[0m\u001b[0;34m.\u001b[0m\u001b[0m__getattribute__\u001b[0m\u001b[0;34m(\u001b[0m\u001b[0mself\u001b[0m\u001b[0;34m,\u001b[0m \u001b[0mname\u001b[0m\u001b[0;34m)\u001b[0m\u001b[0;34m\u001b[0m\u001b[0m\n\u001b[0m\u001b[1;32m   3082\u001b[0m \u001b[0;34m\u001b[0m\u001b[0m\n\u001b[1;32m   3083\u001b[0m     \u001b[0;32mdef\u001b[0m \u001b[0m__setattr__\u001b[0m\u001b[0;34m(\u001b[0m\u001b[0mself\u001b[0m\u001b[0;34m,\u001b[0m \u001b[0mname\u001b[0m\u001b[0;34m,\u001b[0m \u001b[0mvalue\u001b[0m\u001b[0;34m)\u001b[0m\u001b[0;34m:\u001b[0m\u001b[0;34m\u001b[0m\u001b[0m\n",
      "\u001b[0;31mAttributeError\u001b[0m: 'Series' object has no attribute 'splitlines'"
     ]
    }
   ],
   "source": [
    "petscrape['Name2'] = petscrape['Info1'].splitlines()\n",
    "\n",
    "\n",
    "#[str.strip() for str in df2.iloc[0,3].splitlines()]\n"
   ]
  },
  {
   "cell_type": "code",
   "execution_count": 12,
   "metadata": {},
   "outputs": [
    {
     "data": {
      "text/html": [
       "<div>\n",
       "<style>\n",
       "    .dataframe thead tr:only-child th {\n",
       "        text-align: right;\n",
       "    }\n",
       "\n",
       "    .dataframe thead th {\n",
       "        text-align: left;\n",
       "    }\n",
       "\n",
       "    .dataframe tbody tr th {\n",
       "        vertical-align: top;\n",
       "    }\n",
       "</style>\n",
       "<table border=\"1\" class=\"dataframe\">\n",
       "  <thead>\n",
       "    <tr style=\"text-align: right;\">\n",
       "      <th></th>\n",
       "      <th>Name</th>\n",
       "      <th>Organization</th>\n",
       "      <th>Info1</th>\n",
       "      <th>Info2</th>\n",
       "      <th>Story</th>\n",
       "      <th>Script</th>\n",
       "      <th>Name2</th>\n",
       "    </tr>\n",
       "  </thead>\n",
       "  <tbody>\n",
       "    <tr>\n",
       "      <th>0</th>\n",
       "      <td>Brody</td>\n",
       "      <td>SNARR Northeast</td>\n",
       "      <td>Brody\\nBeagle &amp; Plott Hound Mix White Plains, ...</td>\n",
       "      <td>CHARACTERISTICS\\nLoving, Playful, Active\\nCOAT...</td>\n",
       "      <td>Say hello to your new best buddy Brody! This s...</td>\n",
       "      <td>\\n    (function(global){\\n        global.PF = ...</td>\n",
       "      <td>Brody\\nBeagle &amp; Plott Hound Mix White Plains, ...</td>\n",
       "    </tr>\n",
       "    <tr>\n",
       "      <th>1</th>\n",
       "      <td>Calliope</td>\n",
       "      <td>SNARR Northeast</td>\n",
       "      <td>Calliope\\nBloodhound White Plains, NY\\nAdult F...</td>\n",
       "      <td>COAT LENGTH\\nShort\\nHOUSE-TRAINED\\nYes\\nHEALTH...</td>\n",
       "      <td>Calliope is a very seeet dog who was given up ...</td>\n",
       "      <td>\\n    (function(global){\\n        global.PF = ...</td>\n",
       "      <td>Calliope\\nBloodhound White Plains, NY\\nAdult F...</td>\n",
       "    </tr>\n",
       "    <tr>\n",
       "      <th>2</th>\n",
       "      <td>Oreo</td>\n",
       "      <td>SNARR Northeast</td>\n",
       "      <td>Oreo\\nShih Tzu Mix White Plains, NY\\nYoung Mal...</td>\n",
       "      <td>CHARACTERISTICS\\nLoyal, Sweet\\nCOAT LENGTH\\nMe...</td>\n",
       "      <td>Meet Oreo! This cutie pie is looking for the p...</td>\n",
       "      <td>\\n    (function(global){\\n        global.PF = ...</td>\n",
       "      <td>Oreo\\nShih Tzu Mix White Plains, NY\\nYoung Mal...</td>\n",
       "    </tr>\n",
       "    <tr>\n",
       "      <th>3</th>\n",
       "      <td>B-52</td>\n",
       "      <td>SNARR Northeast</td>\n",
       "      <td>B-52\\nBorder Collie &amp; Boxer Mix White Plains, ...</td>\n",
       "      <td>CHARACTERISTICS\\nLoving, Playful, Active\\nCOAT...</td>\n",
       "      <td>Meet darling B-52! This handsome lovebug is re...</td>\n",
       "      <td>\\n    (function(global){\\n        global.PF = ...</td>\n",
       "      <td>B-52\\nBorder Collie &amp; Boxer Mix White Plains, ...</td>\n",
       "    </tr>\n",
       "    <tr>\n",
       "      <th>4</th>\n",
       "      <td>Tanqueray and Tequila (bonded pair)</td>\n",
       "      <td>SNARR Northeast</td>\n",
       "      <td>Tanqueray and Tequila (bonded pair)\\nPomerania...</td>\n",
       "      <td>CHARACTERISTICS\\nLoving, Playful, Sweet\\nCOAT ...</td>\n",
       "      <td>Tanqueray and Tequila are a cutie pie brother-...</td>\n",
       "      <td>\\n    (function(global){\\n        global.PF = ...</td>\n",
       "      <td>Tanqueray and Tequila (bonded pair)\\nPomerania...</td>\n",
       "    </tr>\n",
       "  </tbody>\n",
       "</table>\n",
       "</div>"
      ],
      "text/plain": [
       "                                  Name     Organization  \\\n",
       "0                                Brody  SNARR Northeast   \n",
       "1                             Calliope  SNARR Northeast   \n",
       "2                                 Oreo  SNARR Northeast   \n",
       "3                                 B-52  SNARR Northeast   \n",
       "4  Tanqueray and Tequila (bonded pair)  SNARR Northeast   \n",
       "\n",
       "                                               Info1  \\\n",
       "0  Brody\\nBeagle & Plott Hound Mix White Plains, ...   \n",
       "1  Calliope\\nBloodhound White Plains, NY\\nAdult F...   \n",
       "2  Oreo\\nShih Tzu Mix White Plains, NY\\nYoung Mal...   \n",
       "3  B-52\\nBorder Collie & Boxer Mix White Plains, ...   \n",
       "4  Tanqueray and Tequila (bonded pair)\\nPomerania...   \n",
       "\n",
       "                                               Info2  \\\n",
       "0  CHARACTERISTICS\\nLoving, Playful, Active\\nCOAT...   \n",
       "1  COAT LENGTH\\nShort\\nHOUSE-TRAINED\\nYes\\nHEALTH...   \n",
       "2  CHARACTERISTICS\\nLoyal, Sweet\\nCOAT LENGTH\\nMe...   \n",
       "3  CHARACTERISTICS\\nLoving, Playful, Active\\nCOAT...   \n",
       "4  CHARACTERISTICS\\nLoving, Playful, Sweet\\nCOAT ...   \n",
       "\n",
       "                                               Story  \\\n",
       "0  Say hello to your new best buddy Brody! This s...   \n",
       "1  Calliope is a very seeet dog who was given up ...   \n",
       "2  Meet Oreo! This cutie pie is looking for the p...   \n",
       "3  Meet darling B-52! This handsome lovebug is re...   \n",
       "4  Tanqueray and Tequila are a cutie pie brother-...   \n",
       "\n",
       "                                              Script  \\\n",
       "0  \\n    (function(global){\\n        global.PF = ...   \n",
       "1  \\n    (function(global){\\n        global.PF = ...   \n",
       "2  \\n    (function(global){\\n        global.PF = ...   \n",
       "3  \\n    (function(global){\\n        global.PF = ...   \n",
       "4  \\n    (function(global){\\n        global.PF = ...   \n",
       "\n",
       "                                               Name2  \n",
       "0  Brody\\nBeagle & Plott Hound Mix White Plains, ...  \n",
       "1  Calliope\\nBloodhound White Plains, NY\\nAdult F...  \n",
       "2  Oreo\\nShih Tzu Mix White Plains, NY\\nYoung Mal...  \n",
       "3  B-52\\nBorder Collie & Boxer Mix White Plains, ...  \n",
       "4  Tanqueray and Tequila (bonded pair)\\nPomerania...  "
      ]
     },
     "execution_count": 12,
     "metadata": {},
     "output_type": "execute_result"
    }
   ],
   "source": [
    "petscrape.head()"
   ]
  },
  {
   "cell_type": "code",
   "execution_count": 23,
   "metadata": {},
   "outputs": [
    {
     "data": {
      "text/plain": [
       "Name            object\n",
       "Organization    object\n",
       "Info1           object\n",
       "Info2           object\n",
       "Story           object\n",
       "Script          object\n",
       "Name2           object\n",
       "dtype: object"
      ]
     },
     "execution_count": 23,
     "metadata": {},
     "output_type": "execute_result"
    }
   ],
   "source": [
    "petscrape.dtypes"
   ]
  },
  {
   "cell_type": "code",
   "execution_count": 22,
   "metadata": {},
   "outputs": [],
   "source": [
    "petscrape['Script']= petscrape['Script'].astype('str')"
   ]
  },
  {
   "cell_type": "code",
   "execution_count": null,
   "metadata": {},
   "outputs": [],
   "source": []
  }
 ],
 "metadata": {
  "kernelspec": {
   "display_name": "Python 3",
   "language": "python",
   "name": "python3"
  },
  "language_info": {
   "codemirror_mode": {
    "name": "ipython",
    "version": 3
   },
   "file_extension": ".py",
   "mimetype": "text/x-python",
   "name": "python",
   "nbconvert_exporter": "python",
   "pygments_lexer": "ipython3",
   "version": "3.6.3"
  }
 },
 "nbformat": 4,
 "nbformat_minor": 2
}
